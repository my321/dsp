{
 "cells": [
  {
   "cell_type": "code",
   "execution_count": 1,
   "metadata": {},
   "outputs": [
    {
     "name": "stdout",
     "output_type": "stream",
     "text": [
      "False\n"
     ]
    }
   ],
   "source": [
    "def anagram_checker(string_1,string_2):\n",
    "    length_1 = range(len(string_1))\n",
    "    length_2 = range(len(string_2))\n",
    "    count= 0\n",
    "    for i in length_1:\n",
    "        if string_1[i] in string_2:\n",
    "            count+=1 \n",
    "        if string_1[i] in string_2:\n",
    "            string_2.replace(string_1[i],\" \")\n",
    "    if length_1==length_2 and count==len(string_1):\n",
    "        return True\n",
    "    else: \n",
    "        return False\n",
    "    \n",
    "print(anagram_checker(\"steve\",\"bob\"))"
   ]
  },
  {
   "cell_type": "code",
   "execution_count": null,
   "metadata": {},
   "outputs": [],
   "source": []
  }
 ],
 "metadata": {
  "kernelspec": {
   "display_name": "Python 3",
   "language": "python",
   "name": "python3"
  },
  "language_info": {
   "codemirror_mode": {
    "name": "ipython",
    "version": 3
   },
   "file_extension": ".py",
   "mimetype": "text/x-python",
   "name": "python",
   "nbconvert_exporter": "python",
   "pygments_lexer": "ipython3",
   "version": "3.8.5"
  }
 },
 "nbformat": 4,
 "nbformat_minor": 4
}
